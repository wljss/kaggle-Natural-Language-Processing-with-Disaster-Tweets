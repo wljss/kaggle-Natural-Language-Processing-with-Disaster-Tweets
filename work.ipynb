{
 "cells": [
  {
   "cell_type": "code",
   "execution_count": 24,
   "id": "d92efa54",
   "metadata": {},
   "outputs": [],
   "source": [
    "#读入数据\n",
    "import pandas as pd\n",
    "import torch\n",
    "import torch.nn as nn\n",
    "import numpy as np\n",
    "from matplotlib import pyplot as plt\n",
    "\n",
    "trainData = pd.read_csv(\"./nlp-getting-started-data/train.csv\")\n",
    "trainData['text'] = trainData['text'].fillna('')\n",
    "\n",
    "trainKeyword=trainData.values[:,1]\n",
    "trainLocation=trainData.values[:,2]\n",
    "trainText=trainData.values[:,3]\n",
    "trainTarget=trainData.values[:,4]\n",
    "\n",
    "testData = pd.read_csv(\"./nlp-getting-started-data/test.csv\")\n",
    "testData['text'] = testData['text'].fillna('')\n",
    "\n",
    "testKeyword=testData.values[:,1]\n",
    "testLocation=testData.values[:,2]\n",
    "testText=testData.values[:,3]"
   ]
  },
  {
   "cell_type": "code",
   "execution_count": 15,
   "id": "4c3133cf",
   "metadata": {},
   "outputs": [
    {
     "data": {
      "text/plain": [
       "\"\\nimport seaborn as sns #一个Matplotlib高级数据可视化库，画统计图表\\n\\ntrainData['targetMean']=trainData.groupby('keyword')['target'].transform('mean')\\nfig = plt.figure(figsize=(8,27))\\nsns.countplot(y=trainData.sort_values(by='targetMean',ascending=False)['keyword'], hue=trainData.sort_values(by='targetMean',ascending=False)['target']) #按照targetMean排序，默认升序，ascending=False改为降序排序\\n\\nplt.legend(loc=1)\\n\\nplt.show()\\n\\ntrainData.drop(columns=['targetMean'], inplace=True) #inplace=True的时候在原来的数据上发生改变，默认为inplace=False不改变原数据\\n\""
      ]
     },
     "execution_count": 15,
     "metadata": {},
     "output_type": "execute_result"
    }
   ],
   "source": [
    "'''\n",
    "import seaborn as sns #一个Matplotlib高级数据可视化库，画统计图表\n",
    "\n",
    "trainData['targetMean']=trainData.groupby('keyword')['target'].transform('mean')\n",
    "fig = plt.figure(figsize=(8,27))\n",
    "sns.countplot(y=trainData.sort_values(by='targetMean',ascending=False)['keyword'], hue=trainData.sort_values(by='targetMean',ascending=False)['target']) #按照targetMean排序，默认升序，ascending=False改为降序排序\n",
    "\n",
    "plt.legend(loc=1)\n",
    "\n",
    "plt.show()\n",
    "\n",
    "trainData.drop(columns=['targetMean'], inplace=True) #inplace=True的时候在原来的数据上发生改变，默认为inplace=False不改变原数据\n",
    "'''"
   ]
  },
  {
   "cell_type": "code",
   "execution_count": null,
   "id": "0e637d5d",
   "metadata": {},
   "outputs": [],
   "source": [
    "from torch.utils.data import Dataset,DataLoader\n",
    "class TweetDataset(Dataset):\n",
    "    def __init__(self, texts, labels, max_len=128):\n",
    "        super().__init__()\n",
    "        pass\n",
    "    def __len__(self):\n",
    "        pass\n",
    "    def __getitem__(self, index):\n",
    "        pass\n",
    "        "
   ]
  },
  {
   "cell_type": "code",
   "execution_count": null,
   "id": "eb8215ba",
   "metadata": {},
   "outputs": [],
   "source": [
    "#构造数据集\n",
    "from sklearn.model_selection import train_test_split\n",
    "trainDataList, testDataList, trainClassList, testClassList = train_test_split(trainData['text'], trainData['target'], test_size=0.1, random_state=233) #划分训练集和验证集\n",
    "\n",
    "trainDataset = TweetDataset(trainDataList.tolist(), trainClassList) #.tolist()可以将任意形状的Tensor转换为Python原生标量\n",
    "testDataset = TweetDataset(testDataList.tolist(), testClassList)\n",
    "BATCH_SIZE=16\n",
    "trainLoader = DataLoader(trainDataset, batch_size = BATCH_SIZE, shuffle = True)\n",
    "testLoader = DataLoader(testDataset, batch_size = BATCH_SIZE, shuffle = True)\n"
   ]
  },
  {
   "cell_type": "code",
   "execution_count": null,
   "id": "1aefa155",
   "metadata": {},
   "outputs": [
    {
     "name": "stdout",
     "output_type": "stream",
     "text": [
      "当前device为cuda\n"
     ]
    }
   ],
   "source": [
    "#加载BERT模型\n",
    "from transformers import BertForSequenceClassification\n",
    "model = BertForSequenceClassification.from_pretrained( #BERT模型的序列分类版本\n",
    "    'bert-base-uncased', #BERT基础版本\n",
    "    cache_dir='./myModels', #下载的模型储存的位置,不设置默认会在用户文件夹下/.cache/torch/transformers里\n",
    "    num_labels = 2, #二分类\n",
    "    output_attentions = False, #不返回注意力权重矩阵\n",
    "    output_hidden_states = False #不返回所有隐藏层的输出，进返回最后一层\n",
    ")\n",
    "\n",
    "device = torch.device('cuda' if torch.cuda.is_available() else 'cpu')\n",
    "print('当前device为' + str(device))\n",
    "model=model.to(device)"
   ]
  }
 ],
 "metadata": {
  "kernelspec": {
   "display_name": "jqxx",
   "language": "python",
   "name": "python3"
  },
  "language_info": {
   "codemirror_mode": {
    "name": "ipython",
    "version": 3
   },
   "file_extension": ".py",
   "mimetype": "text/x-python",
   "name": "python",
   "nbconvert_exporter": "python",
   "pygments_lexer": "ipython3",
   "version": "3.7.16"
  }
 },
 "nbformat": 4,
 "nbformat_minor": 5
}
